{
 "cells": [
  {
   "cell_type": "markdown",
   "id": "cf4494bc",
   "metadata": {},
   "source": [
    "## Query Square Root Decomposition\n",
    "\n",
    "In:  arr[]   = {1, 1, 2, 1, 3, 4, 5, 2, 8}<br>\n",
    " &emsp;      query[] = [0, 4], [1, 3], [2, 4]\n",
    "\n",
    " Out: Sum of arr[] elements in range [0, 4] is 8<br>\n",
    "  &emsp; &ensp;   Sum of arr[] elements in range [1, 3] is 4<br>\n",
    "  &emsp; &ensp;   Sum of arr[] elements in range [2, 4] is 6"
   ]
  },
  {
   "cell_type": "code",
   "execution_count": 14,
   "id": "207d8581",
   "metadata": {},
   "outputs": [],
   "source": [
    "import numpy as np\n",
    "arr = [1, 1, 2, 1, 3, 4, 5, 2, 8]\n",
    "querry = [[0, 4], [1, 3], [2, 4]]"
   ]
  },
  {
   "cell_type": "code",
   "execution_count": 22,
   "id": "57060c03",
   "metadata": {},
   "outputs": [],
   "source": [
    "# constructing block array\n",
    "def blockArray(arr, barr):\n",
    "    b = int(np.sqrt(len(arr))) + 1\n",
    "    for i in range(len(arr)):\n",
    "        barr[i//(b-1)] += arr[i] "
   ]
  },
  {
   "cell_type": "code",
   "execution_count": 28,
   "id": "d6c79936",
   "metadata": {},
   "outputs": [
    {
     "name": "stdout",
     "output_type": "stream",
     "text": [
      "The block array is [ 4.  8. 15.  0.]\n"
     ]
    }
   ],
   "source": [
    "b = int(np.sqrt(len(arr))) + 1\n",
    "barr = np.zeros(b)\n",
    "blockArray(arr, barr)\n",
    "print(\"The block array is\" ,barr)"
   ]
  },
  {
   "cell_type": "code",
   "execution_count": 33,
   "id": "3a9662f1",
   "metadata": {},
   "outputs": [
    {
     "name": "stdout",
     "output_type": "stream",
     "text": [
      "Sum of arr elements in range  [0, 4]  is  8\n",
      "Sum of arr elements in range  [1, 3]  is  4\n",
      "Sum of arr elements in range  [2, 4]  is  6\n"
     ]
    }
   ],
   "source": [
    "# evaluating querries\n",
    "for i in querry:\n",
    "    l = i[0]\n",
    "    r = i[1]\n",
    "    s = 0\n",
    "    j = l\n",
    "    \n",
    "    while (j <= r):\n",
    "        if((j%(b-1)==0) and ((j+b-1)<=r)):\n",
    "            s = s + barr[j//(b-1)]\n",
    "            j = j + b - 1\n",
    "        else:\n",
    "            s = s + arr[j]\n",
    "            j = j + 1\n",
    "    print(\"Sum of arr elements in range \", i, \" is \", int(s))"
   ]
  },
  {
   "cell_type": "code",
   "execution_count": 15,
   "id": "3e1b5a64",
   "metadata": {},
   "outputs": [
    {
     "name": "stdout",
     "output_type": "stream",
     "text": [
      "[[0, 4], [1, 3], [2, 4]]\n"
     ]
    }
   ],
   "source": [
    "# MO's Algorithm\n",
    "\n",
    "# Sort querries based on L values\n",
    "querry.sort(key=lambda x: x[0])\n",
    "print(querry)"
   ]
  },
  {
   "cell_type": "code",
   "execution_count": 24,
   "id": "d0bce9d9",
   "metadata": {},
   "outputs": [],
   "source": [
    "currL = 0\n",
    "currR = 0\n",
    "currSum = arr[0]"
   ]
  },
  {
   "cell_type": "code",
   "execution_count": 25,
   "id": "1d593beb",
   "metadata": {},
   "outputs": [
    {
     "name": "stdout",
     "output_type": "stream",
     "text": [
      "The sum of arr elements in range  [0, 4]  is  8\n",
      "The sum of arr elements in range  [1, 3]  is  4\n",
      "The sum of arr elements in range  [2, 4]  is  6\n"
     ]
    }
   ],
   "source": [
    "for i in querry:\n",
    "    \n",
    "    l,r = i\n",
    "    \n",
    "    while (l < currL):\n",
    "        currSum += arr[l]\n",
    "        l += 1\n",
    "#         print(\"l=\",l,currSum)\n",
    "        \n",
    "    while (l > currL):\n",
    "        currSum -= arr[l-1]\n",
    "        l -= 1\n",
    "#         print(\"l=\",l,currSum)\n",
    "        \n",
    "    while (r < currR):\n",
    "        currSum -= arr[r+1]\n",
    "        r += 1\n",
    "#         print(\"r=\",r,currSum)\n",
    "        \n",
    "    while (r > currR):\n",
    "        currSum += arr[r]\n",
    "        r -= 1\n",
    "#         print(\"r=\",r,currSum)\n",
    "    \n",
    "    currL = i[0]\n",
    "    currR = i[1]\n",
    "        \n",
    "    print(\"The sum of arr elements in range \", i, \" is \", currSum)\n",
    "        "
   ]
  },
  {
   "cell_type": "code",
   "execution_count": null,
   "id": "d7caa1c1",
   "metadata": {},
   "outputs": [],
   "source": []
  }
 ],
 "metadata": {
  "kernelspec": {
   "display_name": "Python 3 (ipykernel)",
   "language": "python",
   "name": "python3"
  },
  "language_info": {
   "codemirror_mode": {
    "name": "ipython",
    "version": 3
   },
   "file_extension": ".py",
   "mimetype": "text/x-python",
   "name": "python",
   "nbconvert_exporter": "python",
   "pygments_lexer": "ipython3",
   "version": "3.8.3"
  }
 },
 "nbformat": 4,
 "nbformat_minor": 5
}
