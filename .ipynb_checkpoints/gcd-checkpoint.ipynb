{
 "cells": [
  {
   "cell_type": "code",
   "execution_count": 5,
   "id": "745daa9c",
   "metadata": {},
   "outputs": [],
   "source": [
    "# Method 1: Stright forward method - divisible by both numbers\n",
    "def gcd1(a,b):\n",
    "    result = min(a,b)\n",
    "    while (result >= 0):\n",
    "        if((a % result == 0) and (b % result == 0)):\n",
    "            break\n",
    "        else:\n",
    "            result = result - 1\n",
    "    return result\n",
    "    "
   ]
  },
  {
   "cell_type": "code",
   "execution_count": 8,
   "id": "b25fd1c8",
   "metadata": {},
   "outputs": [
    {
     "data": {
      "text/plain": [
       "12"
      ]
     },
     "execution_count": 8,
     "metadata": {},
     "output_type": "execute_result"
    }
   ],
   "source": [
    "gcd1(36,60)"
   ]
  },
  {
   "cell_type": "code",
   "execution_count": 9,
   "id": "b7e0026f",
   "metadata": {},
   "outputs": [],
   "source": [
    "# Method 2: Euclidean Algorithm\n",
    "# GCD doesn't change if smaller number is subtracted from greater number\n",
    "def gcd2(a,b):\n",
    "    \n",
    "    if(a == 0):\n",
    "        return b\n",
    "    elif(b == 0):\n",
    "        return a\n",
    "    elif(a > b):\n",
    "        return gcd2(a-b, b)\n",
    "    else:\n",
    "        return gcd2(a, b-a)\n",
    "    "
   ]
  },
  {
   "cell_type": "code",
   "execution_count": 13,
   "id": "8f9525f6",
   "metadata": {},
   "outputs": [
    {
     "data": {
      "text/plain": [
       "20"
      ]
     },
     "execution_count": 13,
     "metadata": {},
     "output_type": "execute_result"
    }
   ],
   "source": [
    "gcd2(60,20)"
   ]
  },
  {
   "cell_type": "code",
   "execution_count": 1,
   "id": "71754b87",
   "metadata": {},
   "outputs": [],
   "source": [
    "# Method 3: Euclidean Algorithm\n",
    "# But using modulus operation - n number of subraction is equivalent to modulus\n",
    "\n",
    "# While loop\n",
    "def gcd3(a,b):\n",
    "    \n",
    "    while (a%b > 0):\n",
    "        r = a%b\n",
    "        a = b\n",
    "        b = r\n",
    "    return b\n",
    "\n",
    "# Recursion method\n",
    "def gcd4(a,b):\n",
    "    \n",
    "    if(b == 0):\n",
    "        return a\n",
    "    else:\n",
    "        return gcd4(b, a%b)"
   ]
  },
  {
   "cell_type": "code",
   "execution_count": 5,
   "id": "e0fa24bf",
   "metadata": {},
   "outputs": [
    {
     "name": "stdout",
     "output_type": "stream",
     "text": [
      "16\n",
      "16\n"
     ]
    }
   ],
   "source": [
    "print(gcd3(16, 64))\n",
    "print(gcd4(16, 64))"
   ]
  },
  {
   "cell_type": "code",
   "execution_count": null,
   "id": "0338100e",
   "metadata": {},
   "outputs": [],
   "source": []
  }
 ],
 "metadata": {
  "kernelspec": {
   "display_name": "Python 3 (ipykernel)",
   "language": "python",
   "name": "python3"
  },
  "language_info": {
   "codemirror_mode": {
    "name": "ipython",
    "version": 3
   },
   "file_extension": ".py",
   "mimetype": "text/x-python",
   "name": "python",
   "nbconvert_exporter": "python",
   "pygments_lexer": "ipython3",
   "version": "3.8.3"
  }
 },
 "nbformat": 4,
 "nbformat_minor": 5
}
