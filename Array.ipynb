{
 "cells": [
  {
   "cell_type": "code",
   "execution_count": 1,
   "id": "511a3bc2",
   "metadata": {},
   "outputs": [],
   "source": [
    "# Array  rotation\n",
    "\n",
    "def rotateArray(arr,d):\n",
    "    arr = arr[d:] + arr[:d]\n",
    "    return arr\n"
   ]
  },
  {
   "cell_type": "code",
   "execution_count": 2,
   "id": "7c9043d2",
   "metadata": {},
   "outputs": [
    {
     "name": "stdout",
     "output_type": "stream",
     "text": [
      "[0, 1, 2, 3, 4, 5, 6, 7]\n",
      "[2, 3, 4, 5, 6, 7, 0, 1]\n"
     ]
    }
   ],
   "source": [
    "arr = list(range(8))\n",
    "print(arr)\n",
    "arr = rotateArray(arr,2)\n",
    "print(arr)"
   ]
  },
  {
   "cell_type": "markdown",
   "id": "c52642d4",
   "metadata": {},
   "source": [
    "## Query Square Root Decomposition"
   ]
  },
  {
   "cell_type": "markdown",
   "id": "660808fb",
   "metadata": {},
   "source": [
    "\n",
    "\n",
    " In:  arr[]   = {1, 1, 2, 1, 3, 4, 5, 2, 8}<br>\n",
    " &emsp;      query[] = [0, 4], [1, 3], [2, 4]\n",
    "\n",
    " Out: Sum of arr[] elements in range [0, 4] is 8<br>\n",
    "  &emsp; &ensp;   Sum of arr[] elements in range [1, 3] is 4<br>\n",
    "  &emsp; &ensp;   Sum of arr[] elements in range [2, 4] is 6"
   ]
  },
  {
   "cell_type": "code",
   "execution_count": 3,
   "id": "9cc3683c",
   "metadata": {},
   "outputs": [
    {
     "name": "stdout",
     "output_type": "stream",
     "text": [
      "Summ of arr[] elements in range  [0, 4]  is  8\n",
      "Summ of arr[] elements in range  [1, 3]  is  4\n",
      "Summ of arr[] elements in range  [2, 4]  is  6\n"
     ]
    }
   ],
   "source": [
    "arr = [1, 1, 2, 1, 3, 4, 5, 2, 8]\n",
    "querry = [[0, 4], [1, 3], [2, 4]]\n",
    "\n",
    "for i in querry:\n",
    "    sum = 0\n",
    "    for j in range(i[0],i[1]+1):\n",
    "        sum = sum + arr[j]\n",
    "    print(\"Summ of arr[] elements in range \", i, \" is \", sum)"
   ]
  },
  {
   "cell_type": "code",
   "execution_count": null,
   "id": "2873a76e",
   "metadata": {},
   "outputs": [],
   "source": []
  }
 ],
 "metadata": {
  "kernelspec": {
   "display_name": "Python 3 (ipykernel)",
   "language": "python",
   "name": "python3"
  },
  "language_info": {
   "codemirror_mode": {
    "name": "ipython",
    "version": 3
   },
   "file_extension": ".py",
   "mimetype": "text/x-python",
   "name": "python",
   "nbconvert_exporter": "python",
   "pygments_lexer": "ipython3",
   "version": "3.8.3"
  }
 },
 "nbformat": 4,
 "nbformat_minor": 5
}
